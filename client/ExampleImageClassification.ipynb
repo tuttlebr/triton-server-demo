{
 "cells": [
  {
   "cell_type": "code",
   "execution_count": null,
   "id": "8035397b-ed95-464b-8854-5d829f591da2",
   "metadata": {},
   "outputs": [],
   "source": [
    "import grpc\n",
    "import tritonclient.grpc as grpcclient\n",
    "from tritonclient.utils import InferenceServerException"
   ]
  },
  {
   "cell_type": "code",
   "execution_count": null,
   "id": "e1a8ad1c-f3da-4644-b3f7-fc9a56f3dc4c",
   "metadata": {},
   "outputs": [],
   "source": [
    "def get_model_info(model_name, model_version=\"\", url=\"localhost:8001\"):\n",
    "    # Create gRPC stub for communicating with the server\n",
    "    channel = grpc.insecure_channel(url)\n",
    "    grpc_stub = grpcclient.service_pb2_grpc.GRPCInferenceServiceStub(channel)\n",
    "\n",
    "    # Check Server Status\n",
    "    request = grpcclient.service_pb2.ServerLiveRequest()\n",
    "    response = grpc_stub.ServerLive(request)\n",
    "    print(\"server {}\".format(response))\n",
    "\n",
    "    # Check Server Metadata\n",
    "    response = grpc_stub.ServerLive(request)\n",
    "    request = grpcclient.service_pb2.ServerMetadataRequest()\n",
    "    response = grpc_stub.ServerMetadata(request)\n",
    "    print(\"server metadata:\\n{}\".format(response))\n",
    "\n",
    "    # Check Model Status\n",
    "    request = grpcclient.service_pb2.ModelReadyRequest(\n",
    "        name=model_name, version=model_version\n",
    "    )\n",
    "    response = grpc_stub.ModelReady(request)\n",
    "    print(\"model {}\".format(response))\n",
    "\n",
    "\n",
    "    # Check Model Metadata\n",
    "    request = grpcclient.service_pb2.ModelMetadataRequest(\n",
    "        name=model_name, version=model_version\n",
    "    )\n",
    "    response = grpc_stub.ModelMetadata(request)\n",
    "    print(\"model metadata:\\n{}\".format(response))\n",
    "\n",
    "\n",
    "    # Check Model Configuration - output may be verbose\n",
    "    request = grpcclient.service_pb2.ModelConfigRequest(\n",
    "        name=model_name, version=model_version\n",
    "    )\n",
    "    response = grpc_stub.ModelConfig(request)\n",
    "    print(\"model config:\\n{}\".format(response))"
   ]
  },
  {
   "cell_type": "markdown",
   "id": "c58dce9e-9d2b-4c6a-9c82-e7c4fa3c0398",
   "metadata": {},
   "source": [
    "### Inception Model\n",
    "\n",
    "![inception_graphdef](src/Inception.png \"Inception Model Architecture\")"
   ]
  },
  {
   "cell_type": "code",
   "execution_count": null,
   "id": "b451122c-3b80-4723-b6dc-6b51b52ac2c6",
   "metadata": {},
   "outputs": [],
   "source": [
    "MODEL_NAME = \"inception_graphdef\"\n",
    "get_model_info(MODEL_NAME)"
   ]
  },
  {
   "cell_type": "code",
   "execution_count": null,
   "id": "24088865-f7a9-4e80-b3ab-6a32fd001761",
   "metadata": {},
   "outputs": [],
   "source": [
    "!python3 /workspace/src/python/examples/image_client.py \\\n",
    "    -m $MODEL_NAME \\\n",
    "    -s INCEPTION \\\n",
    "    /workspace/car.jpeg"
   ]
  },
  {
   "cell_type": "code",
   "execution_count": null,
   "id": "ee467975-6e81-48b0-8f82-94269927b66e",
   "metadata": {},
   "outputs": [],
   "source": [
    "!python3 /workspace/src/python/examples/image_client.py \\\n",
    "    -m $MODEL_NAME \\\n",
    "    -s INCEPTION \\\n",
    "    /workspace/mug.jpeg"
   ]
  },
  {
   "cell_type": "code",
   "execution_count": null,
   "id": "6de0a96d-b837-4159-9f15-9a4ca825f498",
   "metadata": {},
   "outputs": [],
   "source": [
    "!python3 /workspace/src/python/examples/image_client.py \\\n",
    "    -m $MODEL_NAME \\\n",
    "    -s INCEPTION \\\n",
    "    /workspace/vulture.jpeg"
   ]
  },
  {
   "cell_type": "markdown",
   "id": "3caa42f2-a7e4-433f-9f9e-c917cff14ebc",
   "metadata": {},
   "source": [
    "### Densenet Model\n",
    "\n",
    "![densenet_onnx](src/Densenet.png \"Densenet Model Architecture\")"
   ]
  },
  {
   "cell_type": "code",
   "execution_count": null,
   "id": "039837c2-7f06-4544-8b36-7ab3551aa079",
   "metadata": {},
   "outputs": [],
   "source": [
    "MODEL_NAME = \"densenet_onnx\"\n",
    "get_model_info(MODEL_NAME)"
   ]
  },
  {
   "cell_type": "code",
   "execution_count": null,
   "id": "8aa92e1b-74f9-458b-b83d-1f8bad94e5a9",
   "metadata": {},
   "outputs": [],
   "source": [
    "!python3 /workspace/src/python/examples/image_client.py \\\n",
    "    -m $MODEL_NAME \\\n",
    "    -s INCEPTION \\\n",
    "    /workspace/car.jpeg"
   ]
  },
  {
   "cell_type": "code",
   "execution_count": null,
   "id": "ace2d522-f22b-414b-8f40-6ee74d4bf535",
   "metadata": {},
   "outputs": [],
   "source": [
    "!python3 /workspace/src/python/examples/image_client.py \\\n",
    "    -m $MODEL_NAME \\\n",
    "    -s INCEPTION \\\n",
    "    /workspace/mug.jpeg"
   ]
  },
  {
   "cell_type": "code",
   "execution_count": null,
   "id": "32c0d4b5-3119-445c-8673-e0f993ea7885",
   "metadata": {},
   "outputs": [],
   "source": [
    "!python3 /workspace/src/python/examples/image_client.py \\\n",
    "    -m $MODEL_NAME \\\n",
    "    -s INCEPTION \\\n",
    "    /workspace/vulture.jpeg"
   ]
  }
 ],
 "metadata": {
  "kernelspec": {
   "display_name": "Python 3 (ipykernel)",
   "language": "python",
   "name": "python3"
  },
  "language_info": {
   "codemirror_mode": {
    "name": "ipython",
    "version": 3
   },
   "file_extension": ".py",
   "mimetype": "text/x-python",
   "name": "python",
   "nbconvert_exporter": "python",
   "pygments_lexer": "ipython3",
   "version": "3.8.10"
  }
 },
 "nbformat": 4,
 "nbformat_minor": 5
}
